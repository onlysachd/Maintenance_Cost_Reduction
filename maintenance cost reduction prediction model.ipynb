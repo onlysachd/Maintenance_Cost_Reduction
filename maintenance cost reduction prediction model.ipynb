{
 "cells": [
  {
   "cell_type": "code",
   "execution_count": 36,
   "id": "02e8871c",
   "metadata": {},
   "outputs": [
    {
     "name": "stdout",
     "output_type": "stream",
     "text": [
      "Requirement already satisfied: lightgbm in c:\\anaconda\\lib\\site-packages (3.3.2)\n",
      "Requirement already satisfied: wheel in c:\\anaconda\\lib\\site-packages (from lightgbm) (0.37.0)\n",
      "Requirement already satisfied: scipy in c:\\anaconda\\lib\\site-packages (from lightgbm) (1.7.1)\n",
      "Requirement already satisfied: numpy in c:\\anaconda\\lib\\site-packages (from lightgbm) (1.20.3)\n",
      "Requirement already satisfied: scikit-learn!=0.22.0 in c:\\anaconda\\lib\\site-packages (from lightgbm) (1.1.2)\n",
      "Requirement already satisfied: joblib>=1.0.0 in c:\\anaconda\\lib\\site-packages (from scikit-learn!=0.22.0->lightgbm) (1.1.0)\n",
      "Requirement already satisfied: threadpoolctl>=2.0.0 in c:\\anaconda\\lib\\site-packages (from scikit-learn!=0.22.0->lightgbm) (2.2.0)\n"
     ]
    }
   ],
   "source": [
    "# Imported Libraries\n",
    "\n",
    "#Visualization Libraries\n",
    "import matplotlib.pyplot as plt\n",
    "import seaborn as sns\n",
    "sns.set_style('whitegrid')\n",
    "\n",
    "\n",
    "\n",
    "\n",
    "# Classifier Libraries\n",
    "from sklearn.linear_model import LogisticRegression\n",
    "from sklearn.svm import SVC\n",
    "from sklearn.neighbors import KNeighborsClassifier\n",
    "from sklearn.tree import DecisionTreeClassifier\n",
    "from sklearn.ensemble import RandomForestClassifier\n",
    "from sklearn.ensemble import RandomForestClassifier, GradientBoostingClassifier\n",
    "import collections\n",
    "from sklearn.model_selection import cross_val_score\n",
    "\n",
    "\n",
    "\n",
    "\n",
    "from sklearn.model_selection import KFold, StratifiedKFold\n",
    "from sklearn.preprocessing import StandardScaler\n",
    "from sklearn.model_selection import StratifiedKFold\n",
    "\n",
    "from sklearn.decomposition import PCA, TruncatedSVD\n",
    "from sklearn.model_selection import train_test_split\n",
    "\n",
    "from sklearn.metrics import precision_score, recall_score, f1_score, roc_auc_score, accuracy_score, classification_report\n",
    "from sklearn.model_selection import cross_val_predict\n",
    "from sklearn.metrics import classification_report\n",
    "from sklearn.metrics import confusion_matrix\n",
    "\n",
    "import numpy as np # linear algebra\n",
    "import pandas as pd # data processing, CSV file I/O (e.g. pd.read_csv)\n",
    "\n",
    "import time\n",
    "from datetime import datetime\n",
    "\n",
    "import warnings\n",
    "!pip install lightgbm\n",
    "import lightgbm as lgb\n",
    "warnings.filterwarnings(\"ignore\")"
   ]
  },
  {
   "cell_type": "code",
   "execution_count": 3,
   "id": "73c0e562",
   "metadata": {},
   "outputs": [],
   "source": [
    "df = pd.read_csv(\"predictive_maintenance_dataset.csv\")"
   ]
  },
  {
   "cell_type": "code",
   "execution_count": 4,
   "id": "b6516812",
   "metadata": {},
   "outputs": [
    {
     "data": {
      "text/html": [
       "<div>\n",
       "<style scoped>\n",
       "    .dataframe tbody tr th:only-of-type {\n",
       "        vertical-align: middle;\n",
       "    }\n",
       "\n",
       "    .dataframe tbody tr th {\n",
       "        vertical-align: top;\n",
       "    }\n",
       "\n",
       "    .dataframe thead th {\n",
       "        text-align: right;\n",
       "    }\n",
       "</style>\n",
       "<table border=\"1\" class=\"dataframe\">\n",
       "  <thead>\n",
       "    <tr style=\"text-align: right;\">\n",
       "      <th></th>\n",
       "      <th>date</th>\n",
       "      <th>device</th>\n",
       "      <th>failure</th>\n",
       "      <th>metric1</th>\n",
       "      <th>metric2</th>\n",
       "      <th>metric3</th>\n",
       "      <th>metric4</th>\n",
       "      <th>metric5</th>\n",
       "      <th>metric6</th>\n",
       "      <th>metric7</th>\n",
       "      <th>metric8</th>\n",
       "      <th>metric9</th>\n",
       "    </tr>\n",
       "  </thead>\n",
       "  <tbody>\n",
       "    <tr>\n",
       "      <th>0</th>\n",
       "      <td>1/1/2015</td>\n",
       "      <td>S1F01085</td>\n",
       "      <td>0</td>\n",
       "      <td>215630672</td>\n",
       "      <td>55</td>\n",
       "      <td>0</td>\n",
       "      <td>52</td>\n",
       "      <td>6</td>\n",
       "      <td>407438</td>\n",
       "      <td>0</td>\n",
       "      <td>0</td>\n",
       "      <td>7</td>\n",
       "    </tr>\n",
       "    <tr>\n",
       "      <th>1</th>\n",
       "      <td>1/1/2015</td>\n",
       "      <td>S1F0166B</td>\n",
       "      <td>0</td>\n",
       "      <td>61370680</td>\n",
       "      <td>0</td>\n",
       "      <td>3</td>\n",
       "      <td>0</td>\n",
       "      <td>6</td>\n",
       "      <td>403174</td>\n",
       "      <td>0</td>\n",
       "      <td>0</td>\n",
       "      <td>0</td>\n",
       "    </tr>\n",
       "    <tr>\n",
       "      <th>2</th>\n",
       "      <td>1/1/2015</td>\n",
       "      <td>S1F01E6Y</td>\n",
       "      <td>0</td>\n",
       "      <td>173295968</td>\n",
       "      <td>0</td>\n",
       "      <td>0</td>\n",
       "      <td>0</td>\n",
       "      <td>12</td>\n",
       "      <td>237394</td>\n",
       "      <td>0</td>\n",
       "      <td>0</td>\n",
       "      <td>0</td>\n",
       "    </tr>\n",
       "    <tr>\n",
       "      <th>3</th>\n",
       "      <td>1/1/2015</td>\n",
       "      <td>S1F01JE0</td>\n",
       "      <td>0</td>\n",
       "      <td>79694024</td>\n",
       "      <td>0</td>\n",
       "      <td>0</td>\n",
       "      <td>0</td>\n",
       "      <td>6</td>\n",
       "      <td>410186</td>\n",
       "      <td>0</td>\n",
       "      <td>0</td>\n",
       "      <td>0</td>\n",
       "    </tr>\n",
       "    <tr>\n",
       "      <th>4</th>\n",
       "      <td>1/1/2015</td>\n",
       "      <td>S1F01R2B</td>\n",
       "      <td>0</td>\n",
       "      <td>135970480</td>\n",
       "      <td>0</td>\n",
       "      <td>0</td>\n",
       "      <td>0</td>\n",
       "      <td>15</td>\n",
       "      <td>313173</td>\n",
       "      <td>0</td>\n",
       "      <td>0</td>\n",
       "      <td>3</td>\n",
       "    </tr>\n",
       "  </tbody>\n",
       "</table>\n",
       "</div>"
      ],
      "text/plain": [
       "       date    device  failure    metric1  metric2  metric3  metric4  metric5  \\\n",
       "0  1/1/2015  S1F01085        0  215630672       55        0       52        6   \n",
       "1  1/1/2015  S1F0166B        0   61370680        0        3        0        6   \n",
       "2  1/1/2015  S1F01E6Y        0  173295968        0        0        0       12   \n",
       "3  1/1/2015  S1F01JE0        0   79694024        0        0        0        6   \n",
       "4  1/1/2015  S1F01R2B        0  135970480        0        0        0       15   \n",
       "\n",
       "   metric6  metric7  metric8  metric9  \n",
       "0   407438        0        0        7  \n",
       "1   403174        0        0        0  \n",
       "2   237394        0        0        0  \n",
       "3   410186        0        0        0  \n",
       "4   313173        0        0        3  "
      ]
     },
     "execution_count": 4,
     "metadata": {},
     "output_type": "execute_result"
    }
   ],
   "source": [
    "df.head()"
   ]
  },
  {
   "cell_type": "code",
   "execution_count": 5,
   "id": "e69c5d7a",
   "metadata": {},
   "outputs": [
    {
     "data": {
      "text/html": [
       "<div>\n",
       "<style scoped>\n",
       "    .dataframe tbody tr th:only-of-type {\n",
       "        vertical-align: middle;\n",
       "    }\n",
       "\n",
       "    .dataframe tbody tr th {\n",
       "        vertical-align: top;\n",
       "    }\n",
       "\n",
       "    .dataframe thead th {\n",
       "        text-align: right;\n",
       "    }\n",
       "</style>\n",
       "<table border=\"1\" class=\"dataframe\">\n",
       "  <thead>\n",
       "    <tr style=\"text-align: right;\">\n",
       "      <th></th>\n",
       "      <th>failure</th>\n",
       "      <th>metric1</th>\n",
       "      <th>metric2</th>\n",
       "      <th>metric3</th>\n",
       "      <th>metric4</th>\n",
       "      <th>metric5</th>\n",
       "      <th>metric6</th>\n",
       "      <th>metric7</th>\n",
       "      <th>metric8</th>\n",
       "      <th>metric9</th>\n",
       "    </tr>\n",
       "  </thead>\n",
       "  <tbody>\n",
       "    <tr>\n",
       "      <th>count</th>\n",
       "      <td>124494.000000</td>\n",
       "      <td>1.244940e+05</td>\n",
       "      <td>124494.000000</td>\n",
       "      <td>124494.000000</td>\n",
       "      <td>124494.000000</td>\n",
       "      <td>124494.000000</td>\n",
       "      <td>124494.000000</td>\n",
       "      <td>124494.000000</td>\n",
       "      <td>124494.000000</td>\n",
       "      <td>124494.000000</td>\n",
       "    </tr>\n",
       "    <tr>\n",
       "      <th>mean</th>\n",
       "      <td>0.000851</td>\n",
       "      <td>1.223881e+08</td>\n",
       "      <td>159.492706</td>\n",
       "      <td>9.940897</td>\n",
       "      <td>1.741120</td>\n",
       "      <td>14.222669</td>\n",
       "      <td>260172.657726</td>\n",
       "      <td>0.292528</td>\n",
       "      <td>0.292528</td>\n",
       "      <td>13.013848</td>\n",
       "    </tr>\n",
       "    <tr>\n",
       "      <th>std</th>\n",
       "      <td>0.029167</td>\n",
       "      <td>7.045933e+07</td>\n",
       "      <td>2179.677781</td>\n",
       "      <td>185.748131</td>\n",
       "      <td>22.908507</td>\n",
       "      <td>15.943028</td>\n",
       "      <td>99151.078547</td>\n",
       "      <td>7.436924</td>\n",
       "      <td>7.436924</td>\n",
       "      <td>275.661220</td>\n",
       "    </tr>\n",
       "    <tr>\n",
       "      <th>min</th>\n",
       "      <td>0.000000</td>\n",
       "      <td>0.000000e+00</td>\n",
       "      <td>0.000000</td>\n",
       "      <td>0.000000</td>\n",
       "      <td>0.000000</td>\n",
       "      <td>1.000000</td>\n",
       "      <td>8.000000</td>\n",
       "      <td>0.000000</td>\n",
       "      <td>0.000000</td>\n",
       "      <td>0.000000</td>\n",
       "    </tr>\n",
       "    <tr>\n",
       "      <th>25%</th>\n",
       "      <td>0.000000</td>\n",
       "      <td>6.128476e+07</td>\n",
       "      <td>0.000000</td>\n",
       "      <td>0.000000</td>\n",
       "      <td>0.000000</td>\n",
       "      <td>8.000000</td>\n",
       "      <td>221452.000000</td>\n",
       "      <td>0.000000</td>\n",
       "      <td>0.000000</td>\n",
       "      <td>0.000000</td>\n",
       "    </tr>\n",
       "    <tr>\n",
       "      <th>50%</th>\n",
       "      <td>0.000000</td>\n",
       "      <td>1.227974e+08</td>\n",
       "      <td>0.000000</td>\n",
       "      <td>0.000000</td>\n",
       "      <td>0.000000</td>\n",
       "      <td>10.000000</td>\n",
       "      <td>249799.500000</td>\n",
       "      <td>0.000000</td>\n",
       "      <td>0.000000</td>\n",
       "      <td>0.000000</td>\n",
       "    </tr>\n",
       "    <tr>\n",
       "      <th>75%</th>\n",
       "      <td>0.000000</td>\n",
       "      <td>1.833096e+08</td>\n",
       "      <td>0.000000</td>\n",
       "      <td>0.000000</td>\n",
       "      <td>0.000000</td>\n",
       "      <td>12.000000</td>\n",
       "      <td>310266.000000</td>\n",
       "      <td>0.000000</td>\n",
       "      <td>0.000000</td>\n",
       "      <td>0.000000</td>\n",
       "    </tr>\n",
       "    <tr>\n",
       "      <th>max</th>\n",
       "      <td>1.000000</td>\n",
       "      <td>2.441405e+08</td>\n",
       "      <td>64968.000000</td>\n",
       "      <td>24929.000000</td>\n",
       "      <td>1666.000000</td>\n",
       "      <td>98.000000</td>\n",
       "      <td>689161.000000</td>\n",
       "      <td>832.000000</td>\n",
       "      <td>832.000000</td>\n",
       "      <td>70000.000000</td>\n",
       "    </tr>\n",
       "  </tbody>\n",
       "</table>\n",
       "</div>"
      ],
      "text/plain": [
       "             failure       metric1        metric2        metric3  \\\n",
       "count  124494.000000  1.244940e+05  124494.000000  124494.000000   \n",
       "mean        0.000851  1.223881e+08     159.492706       9.940897   \n",
       "std         0.029167  7.045933e+07    2179.677781     185.748131   \n",
       "min         0.000000  0.000000e+00       0.000000       0.000000   \n",
       "25%         0.000000  6.128476e+07       0.000000       0.000000   \n",
       "50%         0.000000  1.227974e+08       0.000000       0.000000   \n",
       "75%         0.000000  1.833096e+08       0.000000       0.000000   \n",
       "max         1.000000  2.441405e+08   64968.000000   24929.000000   \n",
       "\n",
       "             metric4        metric5        metric6        metric7  \\\n",
       "count  124494.000000  124494.000000  124494.000000  124494.000000   \n",
       "mean        1.741120      14.222669  260172.657726       0.292528   \n",
       "std        22.908507      15.943028   99151.078547       7.436924   \n",
       "min         0.000000       1.000000       8.000000       0.000000   \n",
       "25%         0.000000       8.000000  221452.000000       0.000000   \n",
       "50%         0.000000      10.000000  249799.500000       0.000000   \n",
       "75%         0.000000      12.000000  310266.000000       0.000000   \n",
       "max      1666.000000      98.000000  689161.000000     832.000000   \n",
       "\n",
       "             metric8        metric9  \n",
       "count  124494.000000  124494.000000  \n",
       "mean        0.292528      13.013848  \n",
       "std         7.436924     275.661220  \n",
       "min         0.000000       0.000000  \n",
       "25%         0.000000       0.000000  \n",
       "50%         0.000000       0.000000  \n",
       "75%         0.000000       0.000000  \n",
       "max       832.000000   70000.000000  "
      ]
     },
     "execution_count": 5,
     "metadata": {},
     "output_type": "execute_result"
    }
   ],
   "source": [
    "df.describe()"
   ]
  },
  {
   "cell_type": "code",
   "execution_count": 6,
   "id": "e5c32bd5",
   "metadata": {},
   "outputs": [
    {
     "data": {
      "text/plain": [
       "(124494, 12)"
      ]
     },
     "execution_count": 6,
     "metadata": {},
     "output_type": "execute_result"
    }
   ],
   "source": [
    "df.shape"
   ]
  },
  {
   "cell_type": "code",
   "execution_count": 7,
   "id": "8fa5d7bb",
   "metadata": {},
   "outputs": [
    {
     "name": "stdout",
     "output_type": "stream",
     "text": [
      "<class 'pandas.core.frame.DataFrame'>\n",
      "RangeIndex: 124494 entries, 0 to 124493\n",
      "Data columns (total 12 columns):\n",
      " #   Column   Non-Null Count   Dtype \n",
      "---  ------   --------------   ----- \n",
      " 0   date     124494 non-null  object\n",
      " 1   device   124494 non-null  object\n",
      " 2   failure  124494 non-null  int64 \n",
      " 3   metric1  124494 non-null  int64 \n",
      " 4   metric2  124494 non-null  int64 \n",
      " 5   metric3  124494 non-null  int64 \n",
      " 6   metric4  124494 non-null  int64 \n",
      " 7   metric5  124494 non-null  int64 \n",
      " 8   metric6  124494 non-null  int64 \n",
      " 9   metric7  124494 non-null  int64 \n",
      " 10  metric8  124494 non-null  int64 \n",
      " 11  metric9  124494 non-null  int64 \n",
      "dtypes: int64(10), object(2)\n",
      "memory usage: 11.4+ MB\n"
     ]
    }
   ],
   "source": [
    "df.info()"
   ]
  },
  {
   "cell_type": "code",
   "execution_count": 8,
   "id": "41a6ded3",
   "metadata": {},
   "outputs": [
    {
     "data": {
      "text/plain": [
       "date       0\n",
       "device     0\n",
       "failure    0\n",
       "metric1    0\n",
       "metric2    0\n",
       "metric3    0\n",
       "metric4    0\n",
       "metric5    0\n",
       "metric6    0\n",
       "metric7    0\n",
       "metric8    0\n",
       "metric9    0\n",
       "dtype: int64"
      ]
     },
     "execution_count": 8,
     "metadata": {},
     "output_type": "execute_result"
    }
   ],
   "source": [
    "df.isnull().sum()"
   ]
  },
  {
   "cell_type": "code",
   "execution_count": 9,
   "id": "215a567a",
   "metadata": {},
   "outputs": [
    {
     "data": {
      "image/png": "[encoded data removed]",
      "text/plain": [
       "<Figure size 504x432 with 2 Axes>"
      ]
     },
     "metadata": {},
     "output_type": "display_data"
    }
   ],
   "source": [
    "plt.figure(figsize=(7,6))\n",
    "sns.heatmap(df.corr(),  cmap=sns.color_palette(\"RdBu_r\", 30));"
   ]
  },
  {
   "cell_type": "code",
   "execution_count": 10,
   "id": "fcfbe189",
   "metadata": {},
   "outputs": [],
   "source": [
    "# removing metric7 column\n",
    "df = df.drop(columns='metric7')"
   ]
  },
  {
   "cell_type": "code",
   "execution_count": 11,
   "id": "bae1c135",
   "metadata": {},
   "outputs": [
    {
     "data": {
      "text/plain": [
       "metric1       0\n",
       "metric6      80\n",
       "metric8     253\n",
       "metric3     435\n",
       "metric2     456\n",
       "metric9     516\n",
       "metric4     728\n",
       "metric5    4749\n",
       "dtype: int64"
      ]
     },
     "execution_count": 11,
     "metadata": {},
     "output_type": "execute_result"
    }
   ],
   "source": [
    "# check for outlier, we use z-score to check if there are any outlier\n",
    "z_score = df.loc[:,'metric1':'metric9'].copy()\n",
    "z_score = z_score.sub(z_score.mean(), axis=1).div(z_score.std(), axis=1)\n",
    "outliers = (abs(z_score) > 3).sum().sort_values()\n",
    "outliers"
   ]
  },
  {
   "cell_type": "code",
   "execution_count": 12,
   "id": "370b5018",
   "metadata": {},
   "outputs": [
    {
     "data": {
      "text/plain": [
       "Text(0.5, 0, 'Number of Outliers')"
      ]
     },
     "execution_count": 12,
     "metadata": {},
     "output_type": "execute_result"
    },
    {
     "data": {
      "image/png": "[encoded data removed]",
      "text/plain": [
       "<Figure size 432x288 with 1 Axes>"
      ]
     },
     "metadata": {},
     "output_type": "display_data"
    }
   ],
   "source": [
    "outliers.plot(kind='barh')\n",
    "plt.xlabel('Number of Outliers')"
   ]
  },
  {
   "cell_type": "code",
   "execution_count": 13,
   "id": "f8081ea6",
   "metadata": {},
   "outputs": [],
   "source": [
    "# convert date columns to datetime\n",
    "df['date'] = pd.to_datetime(df['date'])\n",
    "# From date column, we create new date-related features: 'Day of Week', 'Day' and 'Month'.\n",
    "df['Day of Week'] = df['date'].apply(lambda time: time.dayofweek)\n",
    "df['Day'] = df['date'].apply(lambda time: time.day).astype(int)\n",
    "df['Month'] = df['Month'] = df['date'].apply(lambda time: time.month)\n",
    "#Day of Week is an integer 0-6. I made a dictionary to map the actual string names to the day of the week:\n",
    "dmap = {0:'Mon',1:'Tue',2:'Wed',3:'Thu',4:'Fri',5:'Sat',6:'Sun'}"
   ]
  },
  {
   "cell_type": "code",
   "execution_count": 14,
   "id": "f89a3a0b",
   "metadata": {},
   "outputs": [],
   "source": [
    "#Converting numerical week days to alphabetical format. \n",
    "df['Day of Week'] = df['Day of Week'].map(dmap)"
   ]
  },
  {
   "cell_type": "code",
   "execution_count": 15,
   "id": "6658f502",
   "metadata": {},
   "outputs": [
    {
     "data": {
      "text/html": [
       "<div>\n",
       "<style scoped>\n",
       "    .dataframe tbody tr th:only-of-type {\n",
       "        vertical-align: middle;\n",
       "    }\n",
       "\n",
       "    .dataframe tbody tr th {\n",
       "        vertical-align: top;\n",
       "    }\n",
       "\n",
       "    .dataframe thead th {\n",
       "        text-align: right;\n",
       "    }\n",
       "</style>\n",
       "<table border=\"1\" class=\"dataframe\">\n",
       "  <thead>\n",
       "    <tr style=\"text-align: right;\">\n",
       "      <th></th>\n",
       "      <th>date</th>\n",
       "      <th>device</th>\n",
       "      <th>failure</th>\n",
       "      <th>metric1</th>\n",
       "      <th>metric2</th>\n",
       "      <th>metric3</th>\n",
       "      <th>metric4</th>\n",
       "      <th>metric5</th>\n",
       "      <th>metric6</th>\n",
       "      <th>metric8</th>\n",
       "      <th>metric9</th>\n",
       "      <th>Day of Week</th>\n",
       "      <th>Day</th>\n",
       "      <th>Month</th>\n",
       "    </tr>\n",
       "  </thead>\n",
       "  <tbody>\n",
       "    <tr>\n",
       "      <th>0</th>\n",
       "      <td>2015-01-01</td>\n",
       "      <td>S1F01085</td>\n",
       "      <td>0</td>\n",
       "      <td>215630672</td>\n",
       "      <td>55</td>\n",
       "      <td>0</td>\n",
       "      <td>52</td>\n",
       "      <td>6</td>\n",
       "      <td>407438</td>\n",
       "      <td>0</td>\n",
       "      <td>7</td>\n",
       "      <td>Thu</td>\n",
       "      <td>1</td>\n",
       "      <td>1</td>\n",
       "    </tr>\n",
       "    <tr>\n",
       "      <th>1</th>\n",
       "      <td>2015-01-01</td>\n",
       "      <td>S1F0166B</td>\n",
       "      <td>0</td>\n",
       "      <td>61370680</td>\n",
       "      <td>0</td>\n",
       "      <td>3</td>\n",
       "      <td>0</td>\n",
       "      <td>6</td>\n",
       "      <td>403174</td>\n",
       "      <td>0</td>\n",
       "      <td>0</td>\n",
       "      <td>Thu</td>\n",
       "      <td>1</td>\n",
       "      <td>1</td>\n",
       "    </tr>\n",
       "    <tr>\n",
       "      <th>2</th>\n",
       "      <td>2015-01-01</td>\n",
       "      <td>S1F01E6Y</td>\n",
       "      <td>0</td>\n",
       "      <td>173295968</td>\n",
       "      <td>0</td>\n",
       "      <td>0</td>\n",
       "      <td>0</td>\n",
       "      <td>12</td>\n",
       "      <td>237394</td>\n",
       "      <td>0</td>\n",
       "      <td>0</td>\n",
       "      <td>Thu</td>\n",
       "      <td>1</td>\n",
       "      <td>1</td>\n",
       "    </tr>\n",
       "    <tr>\n",
       "      <th>3</th>\n",
       "      <td>2015-01-01</td>\n",
       "      <td>S1F01JE0</td>\n",
       "      <td>0</td>\n",
       "      <td>79694024</td>\n",
       "      <td>0</td>\n",
       "      <td>0</td>\n",
       "      <td>0</td>\n",
       "      <td>6</td>\n",
       "      <td>410186</td>\n",
       "      <td>0</td>\n",
       "      <td>0</td>\n",
       "      <td>Thu</td>\n",
       "      <td>1</td>\n",
       "      <td>1</td>\n",
       "    </tr>\n",
       "    <tr>\n",
       "      <th>4</th>\n",
       "      <td>2015-01-01</td>\n",
       "      <td>S1F01R2B</td>\n",
       "      <td>0</td>\n",
       "      <td>135970480</td>\n",
       "      <td>0</td>\n",
       "      <td>0</td>\n",
       "      <td>0</td>\n",
       "      <td>15</td>\n",
       "      <td>313173</td>\n",
       "      <td>0</td>\n",
       "      <td>3</td>\n",
       "      <td>Thu</td>\n",
       "      <td>1</td>\n",
       "      <td>1</td>\n",
       "    </tr>\n",
       "  </tbody>\n",
       "</table>\n",
       "</div>"
      ],
      "text/plain": [
       "        date    device  failure    metric1  metric2  metric3  metric4  \\\n",
       "0 2015-01-01  S1F01085        0  215630672       55        0       52   \n",
       "1 2015-01-01  S1F0166B        0   61370680        0        3        0   \n",
       "2 2015-01-01  S1F01E6Y        0  173295968        0        0        0   \n",
       "3 2015-01-01  S1F01JE0        0   79694024        0        0        0   \n",
       "4 2015-01-01  S1F01R2B        0  135970480        0        0        0   \n",
       "\n",
       "   metric5  metric6  metric8  metric9 Day of Week  Day  Month  \n",
       "0        6   407438        0        7         Thu    1      1  \n",
       "1        6   403174        0        0         Thu    1      1  \n",
       "2       12   237394        0        0         Thu    1      1  \n",
       "3        6   410186        0        0         Thu    1      1  \n",
       "4       15   313173        0        3         Thu    1      1  "
      ]
     },
     "execution_count": 15,
     "metadata": {},
     "output_type": "execute_result"
    }
   ],
   "source": [
    "df.head()"
   ]
  },
  {
   "cell_type": "code",
   "execution_count": 16,
   "id": "ca34d83c",
   "metadata": {},
   "outputs": [
    {
     "data": {
      "text/plain": [
       "Month\n",
       "1     24\n",
       "2     14\n",
       "3      9\n",
       "4      9\n",
       "5     21\n",
       "6      6\n",
       "7     16\n",
       "8      4\n",
       "10     3\n",
       "Name: device, dtype: int64"
      ]
     },
     "execution_count": 16,
     "metadata": {},
     "output_type": "execute_result"
    }
   ],
   "source": [
    "#checking number of failure per month\n",
    "byMonth= df[(df['failure'] == 1)].groupby('Month').count()\n",
    "byMonth['device']"
   ]
  },
  {
   "cell_type": "code",
   "execution_count": 17,
   "id": "6c06a04d",
   "metadata": {},
   "outputs": [
    {
     "data": {
      "text/html": [
       "<div>\n",
       "<style scoped>\n",
       "    .dataframe tbody tr th:only-of-type {\n",
       "        vertical-align: middle;\n",
       "    }\n",
       "\n",
       "    .dataframe tbody tr th {\n",
       "        vertical-align: top;\n",
       "    }\n",
       "\n",
       "    .dataframe thead th {\n",
       "        text-align: right;\n",
       "    }\n",
       "</style>\n",
       "<table border=\"1\" class=\"dataframe\">\n",
       "  <thead>\n",
       "    <tr style=\"text-align: right;\">\n",
       "      <th></th>\n",
       "      <th>size</th>\n",
       "      <th>mean</th>\n",
       "    </tr>\n",
       "    <tr>\n",
       "      <th>Month</th>\n",
       "      <th></th>\n",
       "      <th></th>\n",
       "    </tr>\n",
       "  </thead>\n",
       "  <tbody>\n",
       "    <tr>\n",
       "      <th>1</th>\n",
       "      <td>25032</td>\n",
       "      <td>0.000959</td>\n",
       "    </tr>\n",
       "    <tr>\n",
       "      <th>2</th>\n",
       "      <td>19500</td>\n",
       "      <td>0.000718</td>\n",
       "    </tr>\n",
       "    <tr>\n",
       "      <th>3</th>\n",
       "      <td>19833</td>\n",
       "      <td>0.000454</td>\n",
       "    </tr>\n",
       "    <tr>\n",
       "      <th>4</th>\n",
       "      <td>12012</td>\n",
       "      <td>0.000749</td>\n",
       "    </tr>\n",
       "    <tr>\n",
       "      <th>5</th>\n",
       "      <td>11330</td>\n",
       "      <td>0.001853</td>\n",
       "    </tr>\n",
       "    <tr>\n",
       "      <th>6</th>\n",
       "      <td>10469</td>\n",
       "      <td>0.000573</td>\n",
       "    </tr>\n",
       "    <tr>\n",
       "      <th>7</th>\n",
       "      <td>10531</td>\n",
       "      <td>0.001519</td>\n",
       "    </tr>\n",
       "    <tr>\n",
       "      <th>8</th>\n",
       "      <td>8346</td>\n",
       "      <td>0.000479</td>\n",
       "    </tr>\n",
       "    <tr>\n",
       "      <th>9</th>\n",
       "      <td>4470</td>\n",
       "      <td>0.000000</td>\n",
       "    </tr>\n",
       "    <tr>\n",
       "      <th>10</th>\n",
       "      <td>2940</td>\n",
       "      <td>0.001020</td>\n",
       "    </tr>\n",
       "    <tr>\n",
       "      <th>11</th>\n",
       "      <td>31</td>\n",
       "      <td>0.000000</td>\n",
       "    </tr>\n",
       "  </tbody>\n",
       "</table>\n",
       "</div>"
      ],
      "text/plain": [
       "        size      mean\n",
       "Month                 \n",
       "1      25032  0.000959\n",
       "2      19500  0.000718\n",
       "3      19833  0.000454\n",
       "4      12012  0.000749\n",
       "5      11330  0.001853\n",
       "6      10469  0.000573\n",
       "7      10531  0.001519\n",
       "8       8346  0.000479\n",
       "9       4470  0.000000\n",
       "10      2940  0.001020\n",
       "11        31  0.000000"
      ]
     },
     "execution_count": 17,
     "metadata": {},
     "output_type": "execute_result"
    }
   ],
   "source": [
    "df.groupby('Month')['failure'].agg(['size', 'mean'])"
   ]
  },
  {
   "cell_type": "code",
   "execution_count": 18,
   "id": "94de3d6a",
   "metadata": {},
   "outputs": [
    {
     "data": {
      "text/html": [
       "<div>\n",
       "<style scoped>\n",
       "    .dataframe tbody tr th:only-of-type {\n",
       "        vertical-align: middle;\n",
       "    }\n",
       "\n",
       "    .dataframe tbody tr th {\n",
       "        vertical-align: top;\n",
       "    }\n",
       "\n",
       "    .dataframe thead th {\n",
       "        text-align: right;\n",
       "    }\n",
       "</style>\n",
       "<table border=\"1\" class=\"dataframe\">\n",
       "  <thead>\n",
       "    <tr style=\"text-align: right;\">\n",
       "      <th>Month</th>\n",
       "      <th>1</th>\n",
       "      <th>2</th>\n",
       "      <th>3</th>\n",
       "      <th>4</th>\n",
       "      <th>5</th>\n",
       "      <th>6</th>\n",
       "      <th>7</th>\n",
       "      <th>8</th>\n",
       "      <th>10</th>\n",
       "    </tr>\n",
       "    <tr>\n",
       "      <th>Day of Week</th>\n",
       "      <th></th>\n",
       "      <th></th>\n",
       "      <th></th>\n",
       "      <th></th>\n",
       "      <th></th>\n",
       "      <th></th>\n",
       "      <th></th>\n",
       "      <th></th>\n",
       "      <th></th>\n",
       "    </tr>\n",
       "  </thead>\n",
       "  <tbody>\n",
       "    <tr>\n",
       "      <th>Fri</th>\n",
       "      <td>3</td>\n",
       "      <td>1</td>\n",
       "      <td>0</td>\n",
       "      <td>2</td>\n",
       "      <td>3</td>\n",
       "      <td>1</td>\n",
       "      <td>1</td>\n",
       "      <td>0</td>\n",
       "      <td>1</td>\n",
       "    </tr>\n",
       "    <tr>\n",
       "      <th>Mon</th>\n",
       "      <td>10</td>\n",
       "      <td>5</td>\n",
       "      <td>0</td>\n",
       "      <td>3</td>\n",
       "      <td>2</td>\n",
       "      <td>0</td>\n",
       "      <td>3</td>\n",
       "      <td>2</td>\n",
       "      <td>2</td>\n",
       "    </tr>\n",
       "    <tr>\n",
       "      <th>Sat</th>\n",
       "      <td>1</td>\n",
       "      <td>2</td>\n",
       "      <td>0</td>\n",
       "      <td>0</td>\n",
       "      <td>2</td>\n",
       "      <td>0</td>\n",
       "      <td>3</td>\n",
       "      <td>0</td>\n",
       "      <td>0</td>\n",
       "    </tr>\n",
       "    <tr>\n",
       "      <th>Sun</th>\n",
       "      <td>1</td>\n",
       "      <td>0</td>\n",
       "      <td>0</td>\n",
       "      <td>0</td>\n",
       "      <td>0</td>\n",
       "      <td>1</td>\n",
       "      <td>2</td>\n",
       "      <td>0</td>\n",
       "      <td>0</td>\n",
       "    </tr>\n",
       "    <tr>\n",
       "      <th>Thu</th>\n",
       "      <td>3</td>\n",
       "      <td>2</td>\n",
       "      <td>3</td>\n",
       "      <td>2</td>\n",
       "      <td>6</td>\n",
       "      <td>2</td>\n",
       "      <td>4</td>\n",
       "      <td>0</td>\n",
       "      <td>0</td>\n",
       "    </tr>\n",
       "    <tr>\n",
       "      <th>Tue</th>\n",
       "      <td>3</td>\n",
       "      <td>0</td>\n",
       "      <td>4</td>\n",
       "      <td>2</td>\n",
       "      <td>4</td>\n",
       "      <td>1</td>\n",
       "      <td>2</td>\n",
       "      <td>2</td>\n",
       "      <td>0</td>\n",
       "    </tr>\n",
       "    <tr>\n",
       "      <th>Wed</th>\n",
       "      <td>3</td>\n",
       "      <td>4</td>\n",
       "      <td>2</td>\n",
       "      <td>0</td>\n",
       "      <td>4</td>\n",
       "      <td>1</td>\n",
       "      <td>1</td>\n",
       "      <td>0</td>\n",
       "      <td>0</td>\n",
       "    </tr>\n",
       "  </tbody>\n",
       "</table>\n",
       "</div>"
      ],
      "text/plain": [
       "Month        1   2   3   4   5   6   7   8   10\n",
       "Day of Week                                    \n",
       "Fri           3   1   0   2   3   1   1   0   1\n",
       "Mon          10   5   0   3   2   0   3   2   2\n",
       "Sat           1   2   0   0   2   0   3   0   0\n",
       "Sun           1   0   0   0   0   1   2   0   0\n",
       "Thu           3   2   3   2   6   2   4   0   0\n",
       "Tue           3   0   4   2   4   1   2   2   0\n",
       "Wed           3   4   2   0   4   1   1   0   0"
      ]
     },
     "execution_count": 18,
     "metadata": {},
     "output_type": "execute_result"
    }
   ],
   "source": [
    "#counting how many devices are failed in each day of week, separating them monthly.\n",
    "ByFail=df[df['failure']==1]\n",
    "ByFail.groupby(by=['Day of Week', 'Month']).count()['device'].unstack().fillna(0).astype(int)"
   ]
  },
  {
   "cell_type": "code",
   "execution_count": 19,
   "id": "2ce839b1",
   "metadata": {},
   "outputs": [
    {
     "data": {
      "image/png": "[encoded data removed]",
      "text/plain": [
       "<Figure size 432x288 with 1 Axes>"
      ]
     },
     "metadata": {},
     "output_type": "display_data"
    }
   ],
   "source": [
    "#Now I use seaborn library to create a countplot of the Day of Week column and failure\n",
    "sns.countplot(x='Day of Week',data=df,hue='failure',palette='viridis')\n",
    "\n",
    "# To relocate the legend:\n",
    "plt.legend(bbox_to_anchor=(1.05, 1), loc=2, borderaxespad=0.)\n",
    "plt.yscale('log')"
   ]
  },
  {
   "cell_type": "code",
   "execution_count": 20,
   "id": "96a9fb2a",
   "metadata": {},
   "outputs": [
    {
     "data": {
      "image/png": "[encoded data removed]",
      "text/plain": [
       "<Figure size 432x288 with 1 Axes>"
      ]
     },
     "metadata": {},
     "output_type": "display_data"
    }
   ],
   "source": [
    "#We do the same to check failure in different months and numbers are months respectely (January =1 , February =2 and so on)\n",
    "sns.countplot(x='Month',data=df,hue='failure',palette='viridis')\n",
    "\n",
    "# To relocate the legend:\n",
    "plt.legend(bbox_to_anchor=(1.05, 1), loc=2, borderaxespad=0.)\n",
    "plt.yscale('log')"
   ]
  },
  {
   "cell_type": "markdown",
   "id": "50cd4670",
   "metadata": {},
   "source": [
    "As we go further toward the end of the year, number of monthly failures decreases"
   ]
  },
  {
   "cell_type": "code",
   "execution_count": 21,
   "id": "ab0fe4c9",
   "metadata": {},
   "outputs": [
    {
     "data": {
      "text/plain": [
       "1169"
      ]
     },
     "execution_count": 21,
     "metadata": {},
     "output_type": "execute_result"
    }
   ],
   "source": [
    "df['device'].nunique()"
   ]
  },
  {
   "cell_type": "code",
   "execution_count": 22,
   "id": "d2e624db",
   "metadata": {},
   "outputs": [
    {
     "data": {
      "text/plain": [
       "failure\n",
       "0    1169\n",
       "1     106\n",
       "Name: device, dtype: int64"
      ]
     },
     "execution_count": 22,
     "metadata": {},
     "output_type": "execute_result"
    }
   ],
   "source": [
    "df.groupby('failure')['device'].nunique()"
   ]
  },
  {
   "cell_type": "markdown",
   "id": "334296e6",
   "metadata": {},
   "source": [
    "In our 1169 different types of devices and 124494 recording reports, only 106 devices show some sort of failure."
   ]
  },
  {
   "cell_type": "code",
   "execution_count": 23,
   "id": "702067c4",
   "metadata": {},
   "outputs": [
    {
     "data": {
      "text/plain": [
       "<AxesSubplot:ylabel='device'>"
      ]
     },
     "execution_count": 23,
     "metadata": {},
     "output_type": "execute_result"
    },
    {
     "data": {
      "image/png": "[encoded data removed]",
      "text/plain": [
       "<Figure size 432x288 with 1 Axes>"
      ]
     },
     "metadata": {},
     "output_type": "display_data"
    }
   ],
   "source": [
    "# percetange of failure for each device\n",
    "t = df.groupby(by = 'device')['failure'].mean()\n",
    "t.sort_values(ascending=False).head(20).plot(kind='barh')"
   ]
  },
  {
   "cell_type": "markdown",
   "id": "e2ad87b2",
   "metadata": {},
   "source": [
    "# Feature Engineering\n"
   ]
  },
  {
   "cell_type": "code",
   "execution_count": 24,
   "id": "a3a87d8c",
   "metadata": {},
   "outputs": [
    {
     "data": {
      "image/png": "[encoded data removed]",
      "text/plain": [
       "<Figure size 432x288 with 1 Axes>"
      ]
     },
     "metadata": {},
     "output_type": "display_data"
    }
   ],
   "source": [
    "# instead of using device as a feature, we use only the first 4 letters(of devices) to reduce the number of dummies we need to modeling\n",
    "# percentage of failure based on the first 4 letters of device\n",
    "df['device_4L'] = df['device'].str[:4]\n",
    "df.groupby('device_4L')['failure'].mean().sort_values().plot(kind='barh');"
   ]
  },
  {
   "cell_type": "code",
   "execution_count": 25,
   "id": "df681fbf",
   "metadata": {},
   "outputs": [],
   "source": [
    "# process of making dummy variables for two categorical and timestamp columns.\n",
    "df_dummy = pd.get_dummies(df, columns=['Day of Week', 'device_4L'],drop_first = True)\n",
    "df_dummy = df_dummy.drop(columns=['date', 'device'])"
   ]
  },
  {
   "cell_type": "code",
   "execution_count": 26,
   "id": "e69119e4",
   "metadata": {},
   "outputs": [],
   "source": [
    "#we will first scale the Metric columns that are skewed. We need to scale and standardize our dataset.\n",
    "scaler = StandardScaler()\n",
    "df_scaled = df_dummy.copy()\n",
    "df_scaled[:] = scaler.fit_transform(df_dummy)\n",
    "df_scaled['failure'] = df_dummy['failure'].copy()"
   ]
  },
  {
   "cell_type": "code",
   "execution_count": null,
   "id": "c7169372",
   "metadata": {},
   "outputs": [],
   "source": [
    "classifiers = {\n",
    "    \"LogisiticRegression\": LogisticRegression(),\n",
    "    \"KNearest\": KNeighborsClassifier(),\n",
    "    \"DecisionTreeClassifier\": DecisionTreeClassifier(),\n",
    "    \"RandomForestClassifier\": RandomForestClassifier()\n",
    "}"
   ]
  },
  {
   "cell_type": "code",
   "execution_count": 28,
   "id": "af4ad9ec",
   "metadata": {},
   "outputs": [],
   "source": [
    "#Stratified K-Folds cross-validator that provides train/test indices to split data in train/test sets\n",
    "#This cross-validation object is a variation of KFold that returns stratified folds. The folds are made by preserving the percentage of samples for each class\n",
    "\n",
    "kf = StratifiedKFold(n_splits=5, shuffle=True, random_state=123)"
   ]
  },
  {
   "cell_type": "code",
   "execution_count": 29,
   "id": "f500d6dd",
   "metadata": {},
   "outputs": [
    {
     "name": "stdout",
     "output_type": "stream",
     "text": [
      "Classifiers:  LogisticRegression Has a training score of 99.9 % accuracy score\n",
      "Classifiers:  KNeighborsClassifier Has a training score of 99.91 % accuracy score\n",
      "Classifiers:  DecisionTreeClassifier Has a training score of 95.39 % accuracy score\n",
      "Classifiers:  RandomForestClassifier Has a training score of 99.85000000000001 % accuracy score\n"
     ]
    }
   ],
   "source": [
    "# Caculating accuracy of each classifier\n",
    "from sklearn.model_selection import cross_val_score\n",
    "\n",
    "X = df_scaled.drop(columns='failure')\n",
    "y = df_scaled['failure']\n",
    "\n",
    "for key, classifier in classifiers.items():\n",
    "    training_score = cross_val_score(classifier, X, y, cv=5)\n",
    "    print(\"Classifiers: \", classifier.__class__.__name__, \"Has a training score of\", round(training_score.mean(), 4) * 100, \"% accuracy score\")"
   ]
  },
  {
   "cell_type": "markdown",
   "id": "2f59cd06",
   "metadata": {},
   "source": [
    "Since the response is highly imbalanced, accuracy is not a good metric to evaluate different models. AUC is the primary evaluation metric"
   ]
  },
  {
   "cell_type": "code",
   "execution_count": 30,
   "id": "9ae8063c",
   "metadata": {},
   "outputs": [
    {
     "name": "stdout",
     "output_type": "stream",
     "text": [
      "{'penalty': 'l2', 'C': 0.001}\n",
      "{'n_neighbors': 4, 'algorithm': 'brute'}\n",
      "{'min_samples_leaf': 5, 'max_depth': 3, 'criterion': 'entropy'}\n",
      "{'max_features': 15, 'max_depth': 4, 'criterion': 'gini'}\n"
     ]
    }
   ],
   "source": [
    "# Use RandomizedSearchCV to find the best parameters.\n",
    "from sklearn.model_selection import RandomizedSearchCV\n",
    "\n",
    "\n",
    "# Logistic Regression \n",
    "log_reg_params = {\"penalty\": ['l2'], 'C': [0.001, 0.01, 0.1, 1, 10, 100, 1000]}\n",
    "rand_log_reg = RandomizedSearchCV(LogisticRegression(), log_reg_params, scoring='roc_auc')\n",
    "rand_log_reg.fit(X, y)\n",
    "# We automatically get the logistic regression with the best parameters.\n",
    "log_reg = rand_log_reg.best_estimator_\n",
    "print(rand_log_reg.best_params_)\n",
    "\n",
    "# Knearest Neighbor Classifier\n",
    "knears_params = {\"n_neighbors\": list(range(2,5,1)), 'algorithm': ['auto', 'ball_tree', 'kd_tree', 'brute']}\n",
    "rand_knears = RandomizedSearchCV(KNeighborsClassifier(), knears_params, scoring='roc_auc')\n",
    "rand_knears.fit(X, y)\n",
    "# KNears best estimator\n",
    "knears_neighbors = rand_knears.best_estimator_\n",
    "print(rand_knears.best_params_)\n",
    "\n",
    "# DecisionTree Classifier\n",
    "tree_params = {\"criterion\": [\"gini\", \"entropy\"], \"max_depth\": list(range(2,4,1)), \n",
    "              \"min_samples_leaf\": list(range(5,7,1))}\n",
    "rand_tree = RandomizedSearchCV(DecisionTreeClassifier(), tree_params, scoring='roc_auc')\n",
    "rand_tree.fit(X, y)\n",
    "\n",
    "# Decision Tree best estimator\n",
    "tree_clf = rand_tree.best_estimator_\n",
    "print(rand_tree.best_params_)\n",
    "\n",
    "# RandomForest Classifier\n",
    "rf_params = {\"criterion\": [\"gini\", \"entropy\"], \"max_depth\": [4,8,12], \n",
    "              \"max_features\": [5, 10, 15]}\n",
    "rand_rf = RandomizedSearchCV(RandomForestClassifier(), rf_params, scoring='roc_auc')\n",
    "rand_rf.fit(X, y)\n",
    "# Random Forest best estimator\n",
    "rf_clf = rand_rf.best_estimator_\n",
    "print(rand_rf.best_params_)"
   ]
  },
  {
   "cell_type": "code",
   "execution_count": 31,
   "id": "d0a6e391",
   "metadata": {},
   "outputs": [],
   "source": [
    "log_reg_pred = cross_val_predict(log_reg, X, y, cv=3, method='predict_proba')\n",
    "knears_pred = cross_val_predict(knears_neighbors, X, y, cv=3, method='predict_proba')\n",
    "tree_pred = cross_val_predict(tree_clf, X, y, cv=3, method='predict_proba')\n",
    "rf_pred = cross_val_predict(rf_clf, X, y, cv=3, method='predict_proba')"
   ]
  },
  {
   "cell_type": "code",
   "execution_count": 32,
   "id": "036d6ede",
   "metadata": {},
   "outputs": [],
   "source": [
    "log_reg_pred = cross_val_predict(log_reg, X, y, cv=3, method='predict_proba')\n",
    "knears_pred = cross_val_predict(knears_neighbors, X, y, cv=3, method='predict_proba')\n",
    "tree_pred = cross_val_predict(tree_clf, X, y, cv=3, method='predict_proba')\n",
    "rf_pred = cross_val_predict(rf_clf, X, y, cv=3, method='predict_proba')"
   ]
  },
  {
   "cell_type": "code",
   "execution_count": 33,
   "id": "ed36753f",
   "metadata": {},
   "outputs": [
    {
     "data": {
      "text/plain": [
       "<AxesSubplot:>"
      ]
     },
     "execution_count": 33,
     "metadata": {},
     "output_type": "execute_result"
    },
    {
     "data": {
      "image/png": "[encoded data removed]",
      "text/plain": [
       "<Figure size 432x288 with 1 Axes>"
      ]
     },
     "metadata": {},
     "output_type": "display_data"
    }
   ],
   "source": [
    "#Checking Random Forest Classifier\n",
    "rf = RandomForestClassifier()\n",
    "rf.fit(X,y)\n",
    "pd.Series(rf.feature_importances_, index=X.columns).sort_values().plot(kind='barh')\n"
   ]
  },
  {
   "cell_type": "markdown",
   "id": "715c3a3a",
   "metadata": {},
   "source": [
    "Above figure shows the feature importance from Random Forest. It shows that metric1 and metric6 has the highest importance to separating response. Features generated from date is not as important as metrics."
   ]
  },
  {
   "cell_type": "code",
   "execution_count": 43,
   "id": "671d6c33",
   "metadata": {},
   "outputs": [
    {
     "data": {
      "image/png": "[encoded data removed]",
      "text/plain": [
       "<Figure size 432x288 with 1 Axes>"
      ]
     },
     "metadata": {},
     "output_type": "display_data"
    }
   ],
   "source": [
    "# We apply Random Forest Classifier on original data (without any oversampling or under sampling and check the AUC result)\n",
    "from sklearn.metrics import roc_curve\n",
    "X_np = X.values\n",
    "y_np = y.values\n",
    "\n",
    "kf = StratifiedKFold(n_splits=5, shuffle=True, random_state=123)\n",
    "y_prob = np.zeros(y_np.shape)\n",
    "for train, test in kf.split(X_np, y_np):\n",
    "  rf = RandomForestClassifier(max_depth=12, max_features = 6, random_state=123)  \n",
    "  rf.fit(X_np[train], y_np[train])\n",
    "  y_prob[test] = rf.predict_proba(X_np[test])[:,1]\n",
    "\n",
    "fpr, tpr, thresholds = roc_curve(y_np, y_prob)\n",
    "\n",
    "plt.figure()\n",
    "lw = 2\n",
    "plt.plot(fpr, tpr, color='darkorange',  lw=lw)\n",
    "plt.plot([0, 1], [0, 1], color='navy', lw=lw, linestyle='--')\n",
    "plt.xlim([0.0, 1.0])\n",
    "plt.ylim([0.0, 1.05])\n",
    "plt.xlabel('False Positive Rate')\n",
    "plt.ylabel('True Positive Rate')\n",
    "plt.title('ROC RandomForestClassifier (Original), AUC = {0:.4f}'.format(roc_auc_score(y_np, y_prob)))\n",
    "plt.show()"
   ]
  },
  {
   "cell_type": "code",
   "execution_count": 48,
   "id": "56571d5e",
   "metadata": {},
   "outputs": [
    {
     "ename": "NameError",
     "evalue": "name 'sss' is not defined",
     "output_type": "error",
     "traceback": [
      "\u001b[1;31m---------------------------------------------------------------------------\u001b[0m",
      "\u001b[1;31mNameError\u001b[0m                                 Traceback (most recent call last)",
      "\u001b[1;32m~\\AppData\\Local\\Temp/ipykernel_15268/28204163.py\u001b[0m in \u001b[0;36m<module>\u001b[1;34m\u001b[0m\n\u001b[0;32m      8\u001b[0m \u001b[0moversample_prediction\u001b[0m \u001b[1;33m=\u001b[0m \u001b[0mnp\u001b[0m\u001b[1;33m.\u001b[0m\u001b[0mzeros\u001b[0m\u001b[1;33m(\u001b[0m\u001b[0my_np\u001b[0m\u001b[1;33m.\u001b[0m\u001b[0mshape\u001b[0m\u001b[1;33m)\u001b[0m\u001b[1;33m\u001b[0m\u001b[1;33m\u001b[0m\u001b[0m\n\u001b[0;32m      9\u001b[0m \u001b[0moversample_prob\u001b[0m \u001b[1;33m=\u001b[0m \u001b[0mnp\u001b[0m\u001b[1;33m.\u001b[0m\u001b[0mzeros\u001b[0m\u001b[1;33m(\u001b[0m\u001b[0my_np\u001b[0m\u001b[1;33m.\u001b[0m\u001b[0mshape\u001b[0m\u001b[1;33m)\u001b[0m\u001b[1;33m\u001b[0m\u001b[1;33m\u001b[0m\u001b[0m\n\u001b[1;32m---> 10\u001b[1;33m \u001b[1;32mfor\u001b[0m \u001b[0mtrain\u001b[0m\u001b[1;33m,\u001b[0m \u001b[0mtest\u001b[0m \u001b[1;32min\u001b[0m \u001b[0msss\u001b[0m\u001b[1;33m.\u001b[0m\u001b[0msplit\u001b[0m\u001b[1;33m(\u001b[0m\u001b[0mX_np\u001b[0m\u001b[1;33m,\u001b[0m \u001b[0my_np\u001b[0m\u001b[1;33m)\u001b[0m\u001b[1;33m:\u001b[0m\u001b[1;33m\u001b[0m\u001b[1;33m\u001b[0m\u001b[0m\n\u001b[0m\u001b[0;32m     11\u001b[0m     \u001b[0moversample_pipeline\u001b[0m \u001b[1;33m=\u001b[0m \u001b[0mimbalanced_make_pipeline\u001b[0m\u001b[1;33m(\u001b[0m\u001b[0mSMOTE\u001b[0m\u001b[1;33m(\u001b[0m\u001b[0msampling_strategy\u001b[0m\u001b[1;33m=\u001b[0m\u001b[1;34m'minority'\u001b[0m\u001b[1;33m)\u001b[0m\u001b[1;33m,\u001b[0m \u001b[0mRandomForestClassifier\u001b[0m\u001b[1;33m(\u001b[0m\u001b[0mmax_depth\u001b[0m\u001b[1;33m=\u001b[0m\u001b[1;36m12\u001b[0m\u001b[1;33m,\u001b[0m \u001b[0mmax_features\u001b[0m\u001b[1;33m=\u001b[0m\u001b[1;36m6\u001b[0m\u001b[1;33m,\u001b[0m \u001b[0mrandom_state\u001b[0m\u001b[1;33m=\u001b[0m\u001b[1;36m123\u001b[0m\u001b[1;33m)\u001b[0m\u001b[1;33m)\u001b[0m \u001b[1;31m# SMOTE happens during Cross Validation not before..\u001b[0m\u001b[1;33m\u001b[0m\u001b[1;33m\u001b[0m\u001b[0m\n\u001b[0;32m     12\u001b[0m     \u001b[0moversample_model\u001b[0m \u001b[1;33m=\u001b[0m \u001b[0moversample_pipeline\u001b[0m\u001b[1;33m.\u001b[0m\u001b[0mfit\u001b[0m\u001b[1;33m(\u001b[0m\u001b[0mX_np\u001b[0m\u001b[1;33m[\u001b[0m\u001b[0mtrain\u001b[0m\u001b[1;33m]\u001b[0m\u001b[1;33m,\u001b[0m \u001b[0my_np\u001b[0m\u001b[1;33m[\u001b[0m\u001b[0mtrain\u001b[0m\u001b[1;33m]\u001b[0m\u001b[1;33m)\u001b[0m\u001b[1;33m\u001b[0m\u001b[1;33m\u001b[0m\u001b[0m\n",
      "\u001b[1;31mNameError\u001b[0m: name 'sss' is not defined"
     ]
    }
   ],
   "source": [
    "# We apply Random Forest and using SMOTE oversampling technique\n",
    "\n",
    "oversample_accuracy = []\n",
    "oversample_precision = []\n",
    "oversample_recall = []\n",
    "oversample_f1 = []\n",
    "oversample_auc = []\n",
    "oversample_prediction = np.zeros(y_np.shape)\n",
    "oversample_prob = np.zeros(y_np.shape)\n",
    "for train, test in sss.split(X_np, y_np):\n",
    "    oversample_pipeline = imbalanced_make_pipeline(SMOTE(sampling_strategy='minority'), RandomForestClassifier(max_depth=12, max_features=6, random_state=123)) # SMOTE happens during Cross Validation not before..\n",
    "    oversample_model = oversample_pipeline.fit(X_np[train], y_np[train])\n",
    "    oversample_prediction[test] = oversample_model.predict(X_np[test])\n",
    "    oversample_prob[test] = oversample_model.predict_proba(X_np[test])[:,1]\n",
    "\n",
    "    oversample_accuracy.append(oversample_pipeline.score(X_np[test], y_np[test]))\n",
    "    oversample_precision.append(precision_score(y_np[test], oversample_prediction[test]))\n",
    "    oversample_recall.append(recall_score(y_np[test], oversample_prediction[test]))\n",
    "    oversample_f1.append(f1_score(y_np[test], oversample_prediction[test]))\n",
    "    oversample_auc.append(roc_auc_score(y_np[test], oversample_prob[test]))\n",
    "np.mean(oversample_f1) \n",
    "\n",
    "fpr, tpr, thresholds = roc_curve(y_np, oversample_prob)\n",
    "\n",
    "plt.figure()\n",
    "lw = 2\n",
    "plt.plot(fpr, tpr, color='darkorange',  lw=lw)\n",
    "plt.plot([0, 1], [0, 1], color='navy', lw=lw, linestyle='--')\n",
    "plt.xlim([0.0, 1.0])\n",
    "plt.ylim([0.0, 1.05])\n",
    "plt.xlabel('False Positive Rate')\n",
    "plt.ylabel('True Positive Rate')\n",
    "plt.title('ROC RandomForestClassifier (Oversampled), AUC = {0:.4f}'.format(roc_auc_score(y_np, oversample_prob)))\n",
    "plt.legend(loc=\"lower right\")\n",
    "plt.show()"
   ]
  },
  {
   "cell_type": "markdown",
   "id": "2d1f800b",
   "metadata": {},
   "source": [
    "Applying Random Forest on Original data shows the best AUC."
   ]
  },
  {
   "cell_type": "markdown",
   "id": "0d298894",
   "metadata": {},
   "source": [
    "# A Deeper Look into RandomForest:"
   ]
  },
  {
   "cell_type": "code",
   "execution_count": 44,
   "id": "3cc9be14",
   "metadata": {},
   "outputs": [
    {
     "ename": "NameError",
     "evalue": "name 'y_pred_rf' is not defined",
     "output_type": "error",
     "traceback": [
      "\u001b[1;31m---------------------------------------------------------------------------\u001b[0m",
      "\u001b[1;31mNameError\u001b[0m                                 Traceback (most recent call last)",
      "\u001b[1;32m~\\AppData\\Local\\Temp/ipykernel_15268/364426383.py\u001b[0m in \u001b[0;36m<module>\u001b[1;34m\u001b[0m\n\u001b[0;32m      1\u001b[0m \u001b[1;31m#Confusion matrix\u001b[0m\u001b[1;33m\u001b[0m\u001b[1;33m\u001b[0m\u001b[0m\n\u001b[1;32m----> 2\u001b[1;33m \u001b[0mrf_cf\u001b[0m \u001b[1;33m=\u001b[0m \u001b[0mconfusion_matrix\u001b[0m\u001b[1;33m(\u001b[0m\u001b[0my\u001b[0m\u001b[1;33m,\u001b[0m \u001b[0my_pred_rf\u001b[0m\u001b[1;33m)\u001b[0m\u001b[1;33m\u001b[0m\u001b[1;33m\u001b[0m\u001b[0m\n\u001b[0m\u001b[0;32m      3\u001b[0m \u001b[0msns\u001b[0m\u001b[1;33m.\u001b[0m\u001b[0mheatmap\u001b[0m\u001b[1;33m(\u001b[0m\u001b[0mrf_cf\u001b[0m\u001b[1;33m,\u001b[0m \u001b[0mannot\u001b[0m\u001b[1;33m=\u001b[0m\u001b[1;32mTrue\u001b[0m\u001b[1;33m,\u001b[0m \u001b[0mcmap\u001b[0m\u001b[1;33m=\u001b[0m\u001b[0mplt\u001b[0m\u001b[1;33m.\u001b[0m\u001b[0mcm\u001b[0m\u001b[1;33m.\u001b[0m\u001b[0mcopper\u001b[0m\u001b[1;33m,\u001b[0m \u001b[0mfmt\u001b[0m\u001b[1;33m=\u001b[0m\u001b[1;34m'd'\u001b[0m\u001b[1;33m)\u001b[0m\u001b[1;33m\u001b[0m\u001b[1;33m\u001b[0m\u001b[0m\n\u001b[0;32m      4\u001b[0m \u001b[0mplt\u001b[0m\u001b[1;33m.\u001b[0m\u001b[0mtitle\u001b[0m\u001b[1;33m(\u001b[0m\u001b[1;34m\"RandomForest Classifier \\n Confusion Matrix\"\u001b[0m\u001b[1;33m,\u001b[0m \u001b[0mfontsize\u001b[0m\u001b[1;33m=\u001b[0m\u001b[1;36m14\u001b[0m\u001b[1;33m)\u001b[0m\u001b[1;33m\u001b[0m\u001b[1;33m\u001b[0m\u001b[0m\n",
      "\u001b[1;31mNameError\u001b[0m: name 'y_pred_rf' is not defined"
     ]
    }
   ],
   "source": [
    "#Confusion matrix\n",
    "rf_cf = confusion_matrix(y, y_pred_rf)\n",
    "sns.heatmap(rf_cf, annot=True, cmap=plt.cm.copper, fmt='d')\n",
    "plt.title(\"RandomForest Classifier \\n Confusion Matrix\", fontsize=14)"
   ]
  },
  {
   "cell_type": "code",
   "execution_count": 49,
   "id": "ad897aac",
   "metadata": {},
   "outputs": [
    {
     "ename": "NameError",
     "evalue": "name 'f1_list' is not defined",
     "output_type": "error",
     "traceback": [
      "\u001b[1;31m---------------------------------------------------------------------------\u001b[0m",
      "\u001b[1;31mNameError\u001b[0m                                 Traceback (most recent call last)",
      "\u001b[1;32m~\\AppData\\Local\\Temp/ipykernel_15268/512565450.py\u001b[0m in \u001b[0;36m<module>\u001b[1;34m\u001b[0m\n\u001b[1;32m----> 1\u001b[1;33m \u001b[0mbest_thr\u001b[0m \u001b[1;33m=\u001b[0m \u001b[0mnp\u001b[0m\u001b[1;33m.\u001b[0m\u001b[0margmax\u001b[0m\u001b[1;33m(\u001b[0m\u001b[0mf1_list\u001b[0m\u001b[1;33m)\u001b[0m\u001b[1;33m\u001b[0m\u001b[1;33m\u001b[0m\u001b[0m\n\u001b[0m\u001b[0;32m      2\u001b[0m \u001b[0my_pred_rf\u001b[0m \u001b[1;33m=\u001b[0m \u001b[1;36m1\u001b[0m\u001b[1;33m*\u001b[0m\u001b[1;33m(\u001b[0m\u001b[0my_prob\u001b[0m\u001b[1;33m>\u001b[0m\u001b[0mthrs\u001b[0m\u001b[1;33m[\u001b[0m\u001b[0mbest_thr\u001b[0m\u001b[1;33m]\u001b[0m\u001b[1;33m)\u001b[0m\u001b[1;33m\u001b[0m\u001b[1;33m\u001b[0m\u001b[0m\n\u001b[0;32m      3\u001b[0m \u001b[0mprint\u001b[0m\u001b[1;33m(\u001b[0m\u001b[1;34m'Random Forest Classifier:'\u001b[0m\u001b[1;33m)\u001b[0m\u001b[1;33m\u001b[0m\u001b[1;33m\u001b[0m\u001b[0m\n\u001b[0;32m      4\u001b[0m \u001b[0mprint\u001b[0m\u001b[1;33m(\u001b[0m\u001b[0mclassification_report\u001b[0m\u001b[1;33m(\u001b[0m\u001b[0my\u001b[0m\u001b[1;33m,\u001b[0m \u001b[0my_pred_rf\u001b[0m\u001b[1;33m)\u001b[0m\u001b[1;33m)\u001b[0m\u001b[1;33m\u001b[0m\u001b[1;33m\u001b[0m\u001b[0m\n",
      "\u001b[1;31mNameError\u001b[0m: name 'f1_list' is not defined"
     ]
    }
   ],
   "source": [
    "best_thr = np.argmax(f1_list)\n",
    "y_pred_rf = 1*(y_prob>thrs[best_thr])\n",
    "print('Random Forest Classifier:')\n",
    "print(classification_report(y, y_pred_rf))"
   ]
  },
  {
   "cell_type": "code",
   "execution_count": 50,
   "id": "304256b2",
   "metadata": {},
   "outputs": [
    {
     "ename": "NameError",
     "evalue": "name 'f1_list' is not defined",
     "output_type": "error",
     "traceback": [
      "\u001b[1;31m---------------------------------------------------------------------------\u001b[0m",
      "\u001b[1;31mNameError\u001b[0m                                 Traceback (most recent call last)",
      "\u001b[1;32m~\\AppData\\Local\\Temp/ipykernel_15268/682335043.py\u001b[0m in \u001b[0;36m<module>\u001b[1;34m\u001b[0m\n\u001b[1;32m----> 1\u001b[1;33m \u001b[0mbest_thr_over\u001b[0m \u001b[1;33m=\u001b[0m \u001b[0mnp\u001b[0m\u001b[1;33m.\u001b[0m\u001b[0margmax\u001b[0m\u001b[1;33m(\u001b[0m\u001b[0mf1_list\u001b[0m\u001b[1;33m)\u001b[0m\u001b[1;33m\u001b[0m\u001b[1;33m\u001b[0m\u001b[0m\n\u001b[0m\u001b[0;32m      2\u001b[0m \u001b[0my_pred_oversample_rf\u001b[0m \u001b[1;33m=\u001b[0m \u001b[1;36m1\u001b[0m\u001b[1;33m*\u001b[0m\u001b[1;33m(\u001b[0m\u001b[0moversample_prob\u001b[0m\u001b[1;33m>\u001b[0m\u001b[0mthrs\u001b[0m\u001b[1;33m[\u001b[0m\u001b[0mbest_thr_over\u001b[0m\u001b[1;33m]\u001b[0m\u001b[1;33m)\u001b[0m\u001b[1;33m\u001b[0m\u001b[1;33m\u001b[0m\u001b[0m\n\u001b[0;32m      3\u001b[0m \u001b[0mprint\u001b[0m\u001b[1;33m(\u001b[0m\u001b[1;34m'Random Forest Classifier:'\u001b[0m\u001b[1;33m)\u001b[0m\u001b[1;33m\u001b[0m\u001b[1;33m\u001b[0m\u001b[0m\n\u001b[0;32m      4\u001b[0m \u001b[0mprint\u001b[0m\u001b[1;33m(\u001b[0m\u001b[0mclassification_report\u001b[0m\u001b[1;33m(\u001b[0m\u001b[0my\u001b[0m\u001b[1;33m,\u001b[0m \u001b[0my_pred_oversample_rf\u001b[0m\u001b[1;33m)\u001b[0m\u001b[1;33m)\u001b[0m\u001b[1;33m\u001b[0m\u001b[1;33m\u001b[0m\u001b[0m\n",
      "\u001b[1;31mNameError\u001b[0m: name 'f1_list' is not defined"
     ]
    }
   ],
   "source": [
    "best_thr_over = np.argmax(f1_list)\n",
    "y_pred_oversample_rf = 1*(oversample_prob>thrs[best_thr_over])\n",
    "print('Random Forest Classifier:')\n",
    "print(classification_report(y, y_pred_oversample_rf))"
   ]
  },
  {
   "cell_type": "markdown",
   "id": "f779634d",
   "metadata": {},
   "source": [
    "I aggregated over each device (we had 1168 devices) and then calculated the confusion matrix. For predicting failure which is what we want (The ture positive), This model (Random Forest on Original data) catches about half the cases(54%) using a cutoff of 0.3"
   ]
  },
  {
   "cell_type": "code",
   "execution_count": 51,
   "id": "9e43457b",
   "metadata": {},
   "outputs": [],
   "source": [
    "kf = StratifiedKFold(n_splits=5, shuffle=True, random_state=123)\n",
    "y_prob = np.zeros(y_np.shape)\n",
    "for train, test in kf.split(X_np, y_np):\n",
    "  rf = RandomForestClassifier(max_depth=12, random_state=123, max_features=6) \n",
    "  rf.fit(X_np[train], y_np[train])\n",
    "  y_prob[test] = rf.predict_proba(X_np[test])[:,1]"
   ]
  },
  {
   "cell_type": "code",
   "execution_count": 52,
   "id": "4f30cc41",
   "metadata": {},
   "outputs": [
    {
     "data": {
      "image/png": "[encoded data removed]",
      "text/plain": [
       "<Figure size 432x288 with 1 Axes>"
      ]
     },
     "metadata": {},
     "output_type": "display_data"
    }
   ],
   "source": [
    "f1_list = []\n",
    "thrs = np.arange(0,1.1,.01)\n",
    "for thr in thrs:\n",
    "  f1_list.append(f1_score(y_np, 1*(y_prob>thr)))\n",
    "plt.plot(thrs, f1_list, 'b-o')\n",
    "plt.title('RandomForestClassifier - Original Data');"
   ]
  },
  {
   "cell_type": "code",
   "execution_count": 53,
   "id": "da0daaa4",
   "metadata": {},
   "outputs": [
    {
     "ename": "NameError",
     "evalue": "name 'y_pred_rf' is not defined",
     "output_type": "error",
     "traceback": [
      "\u001b[1;31m---------------------------------------------------------------------------\u001b[0m",
      "\u001b[1;31mNameError\u001b[0m                                 Traceback (most recent call last)",
      "\u001b[1;32m~\\AppData\\Local\\Temp/ipykernel_15268/4271403898.py\u001b[0m in \u001b[0;36m<module>\u001b[1;34m\u001b[0m\n\u001b[1;32m----> 1\u001b[1;33m \u001b[0mconfusion_matrix\u001b[0m\u001b[1;33m(\u001b[0m\u001b[0my_np\u001b[0m\u001b[1;33m,\u001b[0m \u001b[0my_pred_rf\u001b[0m\u001b[1;33m)\u001b[0m\u001b[1;33m\u001b[0m\u001b[1;33m\u001b[0m\u001b[0m\n\u001b[0m",
      "\u001b[1;31mNameError\u001b[0m: name 'y_pred_rf' is not defined"
     ]
    }
   ],
   "source": [
    "confusion_matrix(y_np, y_pred_rf)"
   ]
  },
  {
   "cell_type": "code",
   "execution_count": null,
   "id": "fd526c3b",
   "metadata": {},
   "outputs": [],
   "source": [
    "#read our data again\n",
    "df = pd.read_csv(io.StringIO(uploaded['predictive_maintenance.csv'].decode('utf-8'))).drop(columns='metric8')\n",
    "df['date'] = pd.to_datetime(df['date'])\n",
    "df = df.sort_values(['device', 'date'])"
   ]
  },
  {
   "cell_type": "code",
   "execution_count": null,
   "id": "9946ec15",
   "metadata": {},
   "outputs": [],
   "source": [
    "#Having a time series plot to check recording trend \n",
    "plt.figure(figsize=(8,7))\n",
    "df.groupby('date').size().plot()\n",
    "#sns.rugplot(df['date'])\n",
    "plt.xlabel('date')\n",
    "plt.ylabel('number of records')"
   ]
  },
  {
   "cell_type": "markdown",
   "id": "561de3a5",
   "metadata": {},
   "source": [
    "As we can see, number of records decreasing over time, representing a shrinking of the device population as time proceeds.\n",
    "\n",
    "EDA Device Time Series"
   ]
  },
  {
   "cell_type": "code",
   "execution_count": null,
   "id": "3da3d2be",
   "metadata": {},
   "outputs": [],
   "source": [
    "#We chose the 4 types of devices withe most failure\n",
    "withfailure = df.groupby('device').filter(lambda x: x['failure'].sum() > 0)\n",
    "selected = withfailure['device'].unique()[:4]\n",
    "\n",
    "withfailure[withfailure['device'].isin(selected)].pivot(index='date', columns='device', values='failure').fillna(1).plot(subplots=True, layout=(4,1), figsize=(8,8));"
   ]
  },
  {
   "cell_type": "code",
   "execution_count": null,
   "id": "da524bdc",
   "metadata": {},
   "outputs": [],
   "source": [
    "bydevice = df.groupby('device')['failure'].agg(['mean', 'size']).sort_values('size', ascending=False)\n",
    "passed = bydevice[bydevice['mean'] == 0].index[:4]\n",
    "\n",
    "metrics = df.columns[df.columns.str.contains('met')]\n",
    "plt.figure(figsize=(25, 8))\n",
    "for i, met in enumerate(metrics):\n",
    "  ax = plt.subplot(2,4,i+1)\n",
    "  df[df['device'].isin(passed)].pivot(index='date', columns='device', values=met).plot(ax=ax);\n",
    "  plt.title(met)\n",
    "plt.tight_layout()"
   ]
  },
  {
   "cell_type": "code",
   "execution_count": null,
   "id": "6b7c18c3",
   "metadata": {},
   "outputs": [],
   "source": [
    "failed = bydevice[bydevice['mean'] != 0].sample(4, random_state=123).index\n",
    "plt.figure(figsize=(25, 8))\n",
    "for i, met in enumerate(metrics):\n",
    "  ax = plt.subplot(2,4,i+1)\n",
    "  df[df['device'].isin(failed)].pivot(index='date', columns='device', values=met).plot(ax=ax);\n",
    "  plt.title(met)\n",
    "plt.tight_layout()"
   ]
  },
  {
   "cell_type": "code",
   "execution_count": null,
   "id": "7fc8238b",
   "metadata": {},
   "outputs": [],
   "source": [
    "#defining more attributes for evaluation \n",
    "cols = [f'{x}_mean' for x in metrics] + [f'{x}_std' for x in metrics] + [f'{x}_diff' for x in metrics] + [f'{x}_min' for x in metrics] + [f'{x}_max' for x in metrics] + [f'{x}_slope' for x in metrics] \n",
    "def device_aggregation(rows):\n",
    "  f1 = rows[metrics].mean()\n",
    "  f2 = rows[metrics].std()\n",
    "  f3 = rows[metrics].diff().mean()\n",
    "  f4 = rows[metrics].min()\n",
    "  f5 = rows[metrics].max()\n",
    "  f6 = rows[metrics].iloc[0,:] - rows[metrics].iloc[-1,:] \n",
    "  res = pd.concat((f1,f2,f3,f4,f5,f6))\n",
    "  res.index = cols\n",
    "  res['failure'] = rows['failure'].any()\n",
    "  return res"
   ]
  },
  {
   "cell_type": "code",
   "execution_count": null,
   "id": "79083f78",
   "metadata": {},
   "outputs": [],
   "source": [
    "#making a new dataframe\n",
    "newdf = df.groupby('device').apply(device_aggregation).dropna()"
   ]
  },
  {
   "cell_type": "code",
   "execution_count": null,
   "id": "7251f62c",
   "metadata": {},
   "outputs": [],
   "source": [
    "X = newdf.drop(columns='failure')\n",
    "y = newdf['failure']"
   ]
  },
  {
   "cell_type": "code",
   "execution_count": null,
   "id": "b82aaf2a",
   "metadata": {},
   "outputs": [],
   "source": [
    "rf = RandomForestClassifier()\n",
    "rf.fit(X,y)\n",
    "pd.Series(rf.feature_importances_, index=X.columns).sort_values().plot(kind='barh', figsize=(6,8));"
   ]
  },
  {
   "cell_type": "code",
   "execution_count": null,
   "id": "f62880f9",
   "metadata": {},
   "outputs": [],
   "source": [
    "rf_pred[:,1]"
   ]
  },
  {
   "cell_type": "code",
   "execution_count": null,
   "id": "e2b5f35b",
   "metadata": {},
   "outputs": [],
   "source": [
    "rf_pred = cross_val_predict(RandomForestClassifier(max_depth=16, max_features=5, random_state=241), X, y, cv=5, method='predict_proba')\n",
    "\n",
    "fpr, tpr, thresholds = roc_curve(y, rf_pred[:,1])\n",
    "plt.figure()\n",
    "lw = 2\n",
    "plt.plot(fpr, tpr, color='darkorange',  lw=lw)\n",
    "plt.plot([0, 1], [0, 1], color='navy', lw=lw, linestyle='--')\n",
    "plt.xlim([0.0, 1.0])\n",
    "plt.ylim([0.0, 1.05])\n",
    "plt.xlabel('False Positive Rate')\n",
    "plt.ylabel('True Positive Rate')\n",
    "plt.title('ROC GradientBoostingClassifier, AUC = {0:.4f}'.format(roc_auc_score(y,  rf_pred[:,1])))\n",
    "plt.legend(loc=\"lower right\")\n",
    "plt.show()"
   ]
  },
  {
   "cell_type": "code",
   "execution_count": null,
   "id": "9f615bad",
   "metadata": {},
   "outputs": [],
   "source": [
    "f1_list = []\n",
    "thrs = np.arange(0,1.1,.01)\n",
    "for thr in thrs:\n",
    "  f1_list.append(f1_score(y, 1*(rf_pred[:,1]>thr)))\n",
    "plt.plot(thrs, f1_list, 'b-')\n",
    "\n",
    "best_thr = np.argmax(f1_list)\n",
    "plt.plot(thrs[best_thr], f1_list[best_thr], 'ro')\n",
    "plt.title('RandomForestClassifier');\n",
    "plt.xlabel('Threshold')\n",
    "plt.ylabel('F1-Score');"
   ]
  },
  {
   "cell_type": "code",
   "execution_count": null,
   "id": "503ad9bc",
   "metadata": {},
   "outputs": [],
   "source": [
    "y_class = 1*(rf_pred[:,1]>thrs[best_thr])\n",
    "print('Random Forest Classifier:')\n",
    "print(classification_report(y, y_class))"
   ]
  },
  {
   "cell_type": "code",
   "execution_count": null,
   "id": "863129fa",
   "metadata": {},
   "outputs": [],
   "source": [
    "rf_cf = confusion_matrix(y, y_class)\n",
    "sns.heatmap(rf_cf, annot=True, cmap=plt.cm.copper, fmt='d')\n",
    "plt.title(\"RandomForest Classifier \\n Confusion Matrix\", fontsize=14);"
   ]
  },
  {
   "cell_type": "code",
   "execution_count": null,
   "id": "56079dfb",
   "metadata": {},
   "outputs": [],
   "source": [
    "cost_list = []\n",
    "thrs = np.arange(0,1.1,.01)\n",
    "fp_cost = 1    #1$\n",
    "fn_cost = 2    #2$\n",
    "for thr in thrs:\n",
    "  preds = 1*(rf_pred[:,1]>thr)\n",
    "  fp = np.sum((y.values == 0) & (preds == 1))\n",
    "  fn = np.sum((y.values == 1) & (preds == 0))\n",
    "  cost_list.append(fp*fp_cost + fn_cost*fn )\n",
    "plt.plot(thrs, cost_list, '-')\n",
    "best_thr = np.argmin(cost_list)\n",
    "plt.plot(thrs[best_thr], cost_list[best_thr], 'ro')\n",
    "plt.title('RandomForestClassifier');\n",
    "plt.xlabel('Threshold')\n",
    "plt.ylabel('Cost');\n",
    "# false positive, device is not failed but labaled as failed ($1)\n",
    "# false negative, device is failed but labaled as passed ($2)"
   ]
  },
  {
   "cell_type": "markdown",
   "id": "bda92079",
   "metadata": {},
   "source": [
    "## Conclusion\n",
    "1. Response is highly imbalanced.\n",
    "2. Features are not representing the response a lot (they have very low correlation).\n",
    "3. Because data is imbalanced, we use probablity + roc_auc score to find the best model, becasue roc is not dependent on threshold for classficaiton.\n",
    "4. From all five machine learning techniques that I used (Logistic Regression,KNN, Decision Tree, Random Forest and Gradient Boosting), Gradient boosting and Random Forest had the best result. Then I used Oversampling(SMOTE) and Undersampling(NearMiss) techniques to make a balanced training set while using Random Forest and Oversampled trainig set and they didn't improve in AUC score.\n",
    "5. For finding the optimal model, we used a search to find the optimal threshold to maximize F1-score. \n",
    "6. The cost associated with false positive and false negative is not known. Otherwise, we could have determine the threshold to minize the average cost.\n",
    "7. With more data, we might be able to make better predictions, and could incorporate other techniques such as neural networks into the analysis. With more information on the cost of false negative/positives, we could also try updating a GBM model with a custom objective function to further optimize the training. In the real world, we might spend some research time digging into some of the attribute values to see if encoding specific values might also give lift to the model. \n"
   ]
  },
  {
   "cell_type": "code",
   "execution_count": null,
   "id": "042f4e9e",
   "metadata": {},
   "outputs": [],
   "source": []
  }
 ],
 "metadata": {
  "kernelspec": {
   "display_name": "Python 3 (ipykernel)",
   "language": "python",
   "name": "python3"
  },
  "language_info": {
   "codemirror_mode": {
    "name": "ipython",
    "version": 3
   },
   "file_extension": ".py",
   "mimetype": "text/x-python",
   "name": "python",
   "nbconvert_exporter": "python",
   "pygments_lexer": "ipython3",
   "version": "3.9.7"
  }
 },
 "nbformat": 4,
 "nbformat_minor": 5
}
